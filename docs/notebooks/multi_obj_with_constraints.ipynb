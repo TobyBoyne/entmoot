{
 "cells": [
  {
   "cell_type": "markdown",
   "id": "6f01675f-cd1a-4712-9ca4-3cc1dbbd9056",
   "metadata": {
    "tags": []
   },
   "source": [
    "## Bring your own constraints!\n",
    "The following example shows how your own constraints can be enforced on the input\n",
    "variables."
   ]
  },
  {
   "cell_type": "code",
   "execution_count": 1,
   "id": "4c8da843-670c-4f07-bd66-471ec19d3601",
   "metadata": {
    "tags": []
   },
   "outputs": [],
   "source": [
    "from entmoot import Enting, ProblemConfig, GurobiOptimizer, PyomoOptimizer\n",
    "from entmoot.benchmarks import (\n",
    "    build_multi_obj_categorical_problem,\n",
    "    eval_multi_obj_cat_testfunc,\n",
    ")"
   ]
  },
  {
   "cell_type": "markdown",
   "id": "20d1e71a-2eff-49d1-8d45-412ebdc5412a",
   "metadata": {},
   "source": [
    "This part is pretty standard."
   ]
  },
  {
   "cell_type": "code",
   "execution_count": 2,
   "id": "311c88fa-f757-44f3-8ae5-555f715fc1b4",
   "metadata": {},
   "outputs": [],
   "source": [
    "# define problem\n",
    "problem_config = ProblemConfig(rnd_seed=73)\n",
    "# number of objectives\n",
    "number_objectives = 2\n",
    "build_multi_obj_categorical_problem(problem_config, n_obj=number_objectives)\n",
    "\n",
    "# sample data\n",
    "rnd_sample = problem_config.get_rnd_sample_list(num_samples=20)\n",
    "testfunc_evals = eval_multi_obj_cat_testfunc(rnd_sample, n_obj=number_objectives)\n",
    "\n",
    "params = {\"unc_params\": {\"dist_metric\": \"l1\", \"acq_sense\": \"exploration\"}}\n",
    "enting = Enting(problem_config, params=params)\n",
    "# fit tree ensemble\n",
    "enting.fit(rnd_sample, testfunc_evals)"
   ]
  },
  {
   "cell_type": "markdown",
   "id": "818791f2-9784-4b33-acf7-fba8a4747a93",
   "metadata": {},
   "source": [
    "How to add constraints depends on wether you are using Gurobi or Pyomo"
   ]
  },
  {
   "cell_type": "markdown",
   "id": "943e15bb-c253-4d2f-8937-4708cd090fec",
   "metadata": {},
   "source": [
    "### Gurobi Version"
   ]
  },
  {
   "cell_type": "code",
   "execution_count": 4,
   "id": "c0dc70de-f14f-42a4-9202-0e4777d33bec",
   "metadata": {},
   "outputs": [
    {
     "name": "stdout",
     "output_type": "stream",
     "text": [
      "Set parameter WLSAccessID\n",
      "Set parameter WLSSecret\n",
      "Set parameter LicenseID to value 2512524\n",
      "Academic license 2512524 - for non-commercial use only - registered to t.___@imperial.ac.uk\n"
     ]
    },
    {
     "data": {
      "text/plain": [
       "<gurobi.Constr *Awaiting Model Update*>"
      ]
     },
     "execution_count": 4,
     "metadata": {},
     "output_type": "execute_result"
    }
   ],
   "source": [
    "# get optimization model\n",
    "model_gur = problem_config.get_gurobi_model_core()\n",
    "# extract decision variables\n",
    "x = model_gur._all_feat[3]\n",
    "y = model_gur._all_feat[4]\n",
    "z = model_gur._all_feat[5]\n",
    "# add constraint that all variables should coincide\n",
    "model_gur.addConstr(x == y)\n",
    "model_gur.addConstr(y == z)"
   ]
  },
  {
   "cell_type": "markdown",
   "id": "ae8f39bd-224d-4bd7-9b6b-5bbc6a01d355",
   "metadata": {},
   "source": [
    "It is important to update the Gurobi model. Otherwise the constraints will not be added to the model!"
   ]
  },
  {
   "cell_type": "code",
   "execution_count": 5,
   "id": "61a8e860-92ee-4535-ad73-9b2acf132ad8",
   "metadata": {},
   "outputs": [],
   "source": [
    "model_gur.update()"
   ]
  },
  {
   "cell_type": "markdown",
   "id": "c0d9a901-c7b4-46d9-a932-f1b2292476cb",
   "metadata": {},
   "source": [
    "Now you can run the optimization and verify that the variable values indeed equal each other."
   ]
  },
  {
   "cell_type": "code",
   "execution_count": 6,
   "id": "15bc6c5d-011f-4c57-8af0-4da9704af41e",
   "metadata": {},
   "outputs": [],
   "source": [
    "# Build GurobiOptimizer object and solve optimization problem\n",
    "params_gurobi = {\"MIPGap\": 0}\n",
    "opt_gur = GurobiOptimizer(problem_config, params=params_gurobi)"
   ]
  },
  {
   "cell_type": "code",
   "execution_count": 7,
   "id": "e987e159-d855-4476-b7f8-3a041ab45d5f",
   "metadata": {},
   "outputs": [
    {
     "name": "stdout",
     "output_type": "stream",
     "text": [
      "Set parameter MIPGap to value 0\n",
      "Set parameter NonConvex to value 2\n",
      "Gurobi Optimizer version 10.0.3 build v10.0.3rc0 (win64)\n",
      "\n",
      "CPU model: 11th Gen Intel(R) Core(TM) i7-1165G7 @ 2.80GHz, instruction set [SSE2|AVX|AVX2|AVX512]\n",
      "Thread count: 4 physical cores, 8 logical processors, using up to 8 threads\n",
      "\n",
      "Academic license 2512524 - for non-commercial use only - registered to t.___@imperial.ac.uk\n",
      "Optimize a model with 3172 rows, 1828 columns and 11438 nonzeros\n",
      "Model fingerprint: 0xa6d043a3\n",
      "Model has 100 SOS constraints\n",
      "Variable types: 1803 continuous, 25 integer (24 binary)\n",
      "Coefficient statistics:\n",
      "  Matrix range     [5e-08, 2e+04]\n",
      "  Objective range  [1e+00, 2e+00]\n",
      "  Bounds range     [1e+00, 6e+00]\n",
      "  RHS range        [2e-04, 8e+03]\n",
      "Presolve removed 367 rows and 248 columns\n",
      "Presolve time: 0.12s\n",
      "Presolved: 2805 rows, 1580 columns, 9988 nonzeros\n",
      "Presolved model has 94 SOS constraint(s)\n",
      "Variable types: 1557 continuous, 23 integer (23 binary)\n",
      "\n",
      "Root relaxation: unbounded, 647 iterations, 0.04 seconds (0.02 work units)\n",
      "\n",
      "    Nodes    |    Current Node    |     Objective Bounds      |     Work\n",
      " Expl Unexpl |  Obj  Depth IntInf | Incumbent    BestBd   Gap | It/Node Time\n",
      "\n",
      "     0     0  postponed    0               -          -      -     -    0s\n",
      "     0     0  postponed    0               -          -      -     -    0s\n",
      "     0     2  postponed    0               -          -      -     -    0s\n",
      "H   32    25                      -0.2625355          -      -   421    1s\n",
      "H   34    25                      -0.3766411          -      -   397    1s\n",
      "\n",
      "Explored 145 nodes (22173 simplex iterations) in 1.69 seconds (1.08 work units)\n",
      "Thread count was 8 (of 8 available processors)\n",
      "\n",
      "Solution count 2: -0.376641 -0.262536 \n",
      "\n",
      "Optimal solution found (tolerance 0.00e+00)\n",
      "Best objective -3.766411305508e-01, best bound -3.766411305508e-01, gap 0.0000%\n"
     ]
    }
   ],
   "source": [
    "res_gur = opt_gur.solve(enting, model_core=model_gur)"
   ]
  },
  {
   "cell_type": "code",
   "execution_count": 8,
   "id": "4ae2f026-dded-4376-866b-6ca34adc5bf9",
   "metadata": {},
   "outputs": [
    {
     "name": "stdout",
     "output_type": "stream",
     "text": [
      "Set parameter MIPGap to value 0\n",
      "Set parameter NonConvex to value 2\n",
      "Gurobi Optimizer version 10.0.3 build v10.0.3rc0 (win64)\n",
      "\n",
      "CPU model: 11th Gen Intel(R) Core(TM) i7-1165G7 @ 2.80GHz, instruction set [SSE2|AVX|AVX2|AVX512]\n",
      "Thread count: 4 physical cores, 8 logical processors, using up to 8 threads\n",
      "\n",
      "Academic license 2512524 - for non-commercial use only - registered to t.___@imperial.ac.uk\n",
      "Optimize a model with 3172 rows, 1828 columns and 11438 nonzeros\n",
      "Model fingerprint: 0x7f777cf7\n",
      "Model has 100 SOS constraints\n",
      "Variable types: 1803 continuous, 25 integer (24 binary)\n",
      "Coefficient statistics:\n",
      "  Matrix range     [5e-08, 2e+04]\n",
      "  Objective range  [1e+00, 2e+00]\n",
      "  Bounds range     [1e+00, 6e+00]\n",
      "  RHS range        [2e-04, 8e+03]\n",
      "Presolve removed 367 rows and 248 columns\n",
      "Presolve time: 0.07s\n",
      "Presolved: 2805 rows, 1580 columns, 9984 nonzeros\n",
      "Presolved model has 94 SOS constraint(s)\n",
      "Variable types: 1557 continuous, 23 integer (23 binary)\n",
      "\n",
      "Root relaxation: unbounded, 862 iterations, 0.06 seconds (0.05 work units)\n",
      "\n",
      "    Nodes    |    Current Node    |     Objective Bounds      |     Work\n",
      " Expl Unexpl |  Obj  Depth IntInf | Incumbent    BestBd   Gap | It/Node Time\n",
      "\n",
      "     0     0  postponed    0               -          -      -     -    0s\n",
      "     0     0  postponed    0               -          -      -     -    0s\n",
      "     0     2  postponed    0               -          -      -     -    0s\n",
      "H   35    31                      -0.1298538          -      -   261    0s\n",
      "H   42    31                      -0.3409819          -      -   218    0s\n",
      "H   72    30                      -0.3462866          -      -   138    1s\n",
      "H  110    18                      -0.3557482          -      -   138    1s\n",
      "H  125    16                      -0.4010824          -      -   146    1s\n",
      "H  144     7                      -0.4035719   -0.79918  98.0%   144    1s\n",
      "\n",
      "Explored 167 nodes (25805 simplex iterations) in 1.47 seconds (1.03 work units)\n",
      "Thread count was 8 (of 8 available processors)\n",
      "\n",
      "Solution count 6: -0.403572 -0.401082 -0.355748 ... -0.129854\n",
      "\n",
      "Optimal solution found (tolerance 0.00e+00)\n",
      "Best objective -4.035719394214e-01, best bound -4.035719394214e-01, gap 0.0000%\n"
     ]
    }
   ],
   "source": [
    "# Build GurobiOptimizer object and solve optimization problem\n",
    "params_gurobi = {\"MIPGap\": 0}\n",
    "opt_gur = GurobiOptimizer(problem_config, params=params_gurobi)\n",
    "\n",
    "res_gur = opt_gur.solve(enting, model_core=model_gur)\n",
    "x_opt, y_opt, z_opt = res_gur.opt_point[3:]\n",
    "\n",
    "assert round(x_opt, 5) == round(y_opt, 5) and round(y_opt, 5) == round(z_opt, 5)"
   ]
  },
  {
   "cell_type": "code",
   "execution_count": 14,
   "id": "f6e5a95f",
   "metadata": {},
   "outputs": [
    {
     "ename": "IndexError",
     "evalue": "list index out of range",
     "output_type": "error",
     "traceback": [
      "\u001b[1;31m---------------------------------------------------------------------------\u001b[0m",
      "\u001b[1;31mIndexError\u001b[0m                                Traceback (most recent call last)",
      "Cell \u001b[1;32mIn[14], line 3\u001b[0m\n\u001b[0;32m      1\u001b[0m al \u001b[38;5;241m=\u001b[39m opt_gur\u001b[38;5;241m.\u001b[39m_active_leaves\n\u001b[0;32m      2\u001b[0m \u001b[38;5;66;03m# list[tuple[int, str]]\u001b[39;00m\n\u001b[1;32m----> 3\u001b[0m \u001b[43mal\u001b[49m\u001b[43m[\u001b[49m\u001b[38;5;241;43m2\u001b[39;49m\u001b[43m]\u001b[49m\n",
      "\u001b[1;31mIndexError\u001b[0m: list index out of range"
     ]
    }
   ],
   "source": [
    "al = opt_gur._active_leaves\n",
    "# list[tuple[int, str]]\n"
   ]
  },
  {
   "cell_type": "markdown",
   "id": "24b3d335-d601-41c1-ad46-d80949c0cfcc",
   "metadata": {},
   "source": [
    "### Pyomo Version"
   ]
  },
  {
   "cell_type": "code",
   "execution_count": null,
   "id": "1644fd93-d413-4aaa-9d91-2467f2c59900",
   "metadata": {},
   "outputs": [],
   "source": [
    "# Pyomo version\n",
    "import pyomo.environ as pyo\n",
    "\n",
    "model_pyo = problem_config.get_pyomo_model_core()\n",
    "# extract decision variables\n",
    "x = model_pyo._all_feat[3]\n",
    "y = model_pyo._all_feat[4]\n",
    "z = model_pyo._all_feat[5]\n",
    "# add constraint that all variables should coincide\n",
    "model_pyo.xy_equal_constr = pyo.Constraint(expr=x == y)\n",
    "model_pyo.yz_equal_constr = pyo.Constraint(expr=y == z)\n",
    "\n",
    "# Build GurobiOptimizer object and solve optimization problem\n",
    "params_pyomo = {\"solver_name\": \"gurobi\"}\n",
    "opt_pyo = PyomoOptimizer(problem_config, params=params_pyomo)\n",
    "\n",
    "res_pyo = opt_pyo.solve(enting, model_core=model_pyo)\n",
    "x_opt, y_opt, z_opt = res_pyo.opt_point[3:]\n",
    "\n",
    "assert round(x_opt, 5) == round(y_opt, 5) and round(y_opt, 5) == round(z_opt, 5)"
   ]
  },
  {
   "cell_type": "markdown",
   "id": "c9f1cad4-8d2b-4bc7-bc86-de06d4a141c3",
   "metadata": {},
   "source": [
    "Note that no model update is required in the Pyomo version in contrast to the Gurobi variant"
   ]
  },
  {
   "cell_type": "code",
   "execution_count": null,
   "id": "b6694759-9337-45b1-a39e-b608281cd1da",
   "metadata": {},
   "outputs": [],
   "source": []
  }
 ],
 "metadata": {
  "kernelspec": {
   "display_name": "Python 3 (ipykernel)",
   "language": "python",
   "name": "python3"
  },
  "language_info": {
   "codemirror_mode": {
    "name": "ipython",
    "version": 3
   },
   "file_extension": ".py",
   "mimetype": "text/x-python",
   "name": "python",
   "nbconvert_exporter": "python",
   "pygments_lexer": "ipython3",
   "version": "3.10.11"
  }
 },
 "nbformat": 4,
 "nbformat_minor": 5
}
