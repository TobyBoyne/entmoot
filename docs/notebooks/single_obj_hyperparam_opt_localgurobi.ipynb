{
 "cells": [
  {
   "cell_type": "markdown",
   "id": "6f01675f-cd1a-4712-9ca4-3cc1dbbd9056",
   "metadata": {
    "tags": []
   },
   "source": [
    "## Optimization with tuned surrogate hyperparameters"
   ]
  },
  {
   "cell_type": "markdown",
   "id": "ba0c6192-5520-4349-8421-586ff82ab39b",
   "metadata": {},
   "source": [
    "This notebook is a copy of Robert's notebook where I used a local Gurobi version (instead of Gurobi Cloud) and modified the example -- Nathan."
   ]
  },
  {
   "cell_type": "markdown",
   "id": "567ea5b7-f871-4ce3-8970-6f82728de9bf",
   "metadata": {
    "collapsed": true,
    "jupyter": {
     "outputs_hidden": true
    },
    "tags": []
   },
   "source": [
    "Sometimes we want to carefully ensure that the tree ensemble we are using to build an optimization model has the right complexity. The default hyperparameters, like the number of trees, tree depth, and the minimum number of observations allowed in terminal leaves, may lead to over- or underfitting, resulting in the optimizer needing a larger number of expensive black-box function evaluations to find good experimental settings.\n",
    "\n",
    "We can easily improve the situation by tuning the tree ensemble parameters with cross validation. We can do this as often as we please - the minimal approach would be to tune the hyperparameters once before the first proposal and retain those hyperparameters for all other iterations. If we are willing to wait, on the other hand, we could retune the hyperparameters after every iteration."
   ]
  },
  {
   "cell_type": "markdown",
   "id": "68dddb1e",
   "metadata": {},
   "source": [
    "### Problem setup\n",
    "\n",
    "First we will construct a problem by hand. We will have a function to simulate doing experiments; in real applications this would be some expensive experiment or simulation."
   ]
  },
  {
   "cell_type": "code",
   "execution_count": 37,
   "id": "8af87711",
   "metadata": {},
   "outputs": [],
   "source": [
    "import numpy as np\n",
    "\n",
    "\n",
    "def blackbox_ground_truth(x: np.ndarray, noise_std: float = 0.02) -> np.ndarray:\n",
    "    \"\"\"Get the ground truth response for each observation in a dataset\n",
    "\n",
    "    The input array is N_observations x N_input_features and the output\n",
    "    of this function is a column vector with N_observations elements\n",
    "\n",
    "    Note for Nathan: I think this problem I invented is not a good one\n",
    "    to demonstrate GBT complexity. I'm sure you have a better idea.\n",
    "    \"\"\"\n",
    "\n",
    "    def evaluate_blackbox_single_obs(\n",
    "        xin: np.ndarray\n",
    "    ) -> np.ndarray:\n",
    "        return (\n",
    "            xin[0]\n",
    "            + 0.25 * xin[1] * xin[2]\n",
    "            - 0.33 * xin[0] * xin[1] * xin[2]\n",
    "            + 0.2 * xin[3]\n",
    "            - 0.5 * xin[1] * xin[3]\n",
    "            + np.sin(4.0 * xin[1] * np.pi)\n",
    "            + np.cos(4.0 * xin[0] * xin[3] * np.pi)\n",
    "            + (xin[1] - 0.6) ** 2\n",
    "            + (xin[3] - 0.2) ** 2\n",
    "            + (xin[2] - 0.85)**2\n",
    "            + np.random.normal(loc=0, scale=noise_std)\n",
    "            + xin[0]*np.exp(xin[1] * xin[2])\n",
    "        )\n",
    "\n",
    "    return np.array([evaluate_blackbox_single_obs(xobs) for xobs in x]).reshape(-1, 1)"
   ]
  },
  {
   "cell_type": "markdown",
   "id": "67c9ce4c",
   "metadata": {},
   "source": [
    "Next we generate an initial training data set and put the ProblemConfig object together."
   ]
  },
  {
   "cell_type": "code",
   "execution_count": 38,
   "id": "cae5fecd-f30c-4a5c-966e-c14008a1af8a",
   "metadata": {},
   "outputs": [],
   "source": [
    "from entmoot import Enting, ProblemConfig, GurobiOptimizer\n",
    "import numpy as np\n",
    "\n",
    "# define problem\n",
    "problem_config = ProblemConfig(rnd_seed=1234)\n",
    "problem_config.add_feature(\"real\", (-4, 4))\n",
    "problem_config.add_feature(\"real\", (-4, 4))\n",
    "problem_config.add_feature(\"real\", (-4, 4))\n",
    "problem_config.add_feature(\"real\", (-4, 4))\n",
    "problem_config.add_min_objective()\n",
    "\n",
    "# sample data for training. This is the intial dataset from before the\n",
    "# iterative optimization starts. Let's make it more interesting by avoiding\n",
    "# any really good points (obj < 0) during the initial sampling. Do this in a\n",
    "# quick and dirty way assuming that we will randomly generate enough samples\n",
    "N_init_samples = 15\n",
    "train_x = problem_config.get_rnd_sample_list(num_samples=N_init_samples * 100)\n",
    "train_y = blackbox_ground_truth(train_x)\n",
    "keep = train_y > 0\n",
    "train_x = [train_x[idx] for idx, k in enumerate(keep) if k][:N_init_samples]\n",
    "train_y = train_y[keep][:N_init_samples].reshape(-1, 1)\n",
    "\n",
    "# Very dense sampling to find the optimum empirically for later comparison\n",
    "N_dense_samples = 100000\n",
    "dense_sample = problem_config.get_rnd_sample_list(num_samples=N_dense_samples)\n",
    "dense_sample_outcomes = blackbox_ground_truth(dense_sample, noise_std=0)"
   ]
  },
  {
   "cell_type": "code",
   "execution_count": 39,
   "id": "217c24ee",
   "metadata": {},
   "outputs": [
    {
     "name": "stdout",
     "output_type": "stream",
     "text": [
      "Function has a minimum value of approx -25149296.56  at position \n",
      "[-3.425, -3.966, -3.986, -0.034]\n"
     ]
    }
   ],
   "source": [
    "opt_objval = np.min(dense_sample_outcomes)\n",
    "print(\n",
    "    f\"Function has a minimum value of approx {np.round(opt_objval ,decimals=3)}\",\n",
    "    f\" at position \\n{[np.round(x, decimals=3) for x in dense_sample[np.argmin(dense_sample_outcomes)]]}\",\n",
    ")"
   ]
  },
  {
   "cell_type": "markdown",
   "id": "7ba17441",
   "metadata": {},
   "source": [
    "### Optimization with default hyperparameters\n",
    "\n",
    "To show the effect of tuned vs default hyperparameters we will perform the optimization two times. Here we leave the tree ensemble hyperparameters untouched and perform 50 Bayesian optimization iterations."
   ]
  },
  {
   "cell_type": "code",
   "execution_count": 40,
   "id": "3bb5fea4",
   "metadata": {},
   "outputs": [
    {
     "name": "stdout",
     "output_type": "stream",
     "text": [
      "Set parameter MIPGap to value 0\n"
     ]
    },
    {
     "name": "stderr",
     "output_type": "stream",
     "text": [
      "C:\\Users\\NSM\\anaconda3\\envs\\entmoottest\\lib\\site-packages\\entmoot\\models\\mean_models\\tree_ensemble.py:23: UserWarning: No 'train_params' for tree ensemble training specified. Switch training to default params!\n",
      "  warnings.warn(\n"
     ]
    },
    {
     "name": "stdout",
     "output_type": "stream",
     "text": [
      "Set parameter MIPGap to value 0\n",
      "Set parameter MIPGap to value 0\n",
      "Set parameter MIPGap to value 0\n",
      "Set parameter MIPGap to value 0\n",
      "Set parameter MIPGap to value 0\n",
      "Set parameter MIPGap to value 0\n",
      "Set parameter MIPGap to value 0\n",
      "Set parameter MIPGap to value 0\n",
      "Set parameter MIPGap to value 0\n",
      "Set parameter MIPGap to value 0\n",
      "Set parameter MIPGap to value 0\n",
      "Set parameter MIPGap to value 0\n",
      "Set parameter MIPGap to value 0\n",
      "Set parameter MIPGap to value 0\n",
      "Set parameter MIPGap to value 0\n",
      "Set parameter MIPGap to value 0\n",
      "Set parameter MIPGap to value 0\n",
      "Set parameter MIPGap to value 0\n",
      "Set parameter MIPGap to value 0\n",
      "Set parameter MIPGap to value 0\n",
      "Set parameter MIPGap to value 0\n",
      "Set parameter MIPGap to value 0\n",
      "Set parameter MIPGap to value 0\n",
      "Set parameter MIPGap to value 0\n",
      "Set parameter MIPGap to value 0\n",
      "Set parameter MIPGap to value 0\n",
      "Set parameter MIPGap to value 0\n",
      "Set parameter MIPGap to value 0\n",
      "Set parameter MIPGap to value 0\n",
      "Set parameter MIPGap to value 0\n",
      "Set parameter MIPGap to value 0\n",
      "Set parameter MIPGap to value 0\n",
      "Set parameter MIPGap to value 0\n",
      "Set parameter MIPGap to value 0\n",
      "Set parameter MIPGap to value 0\n",
      "Set parameter MIPGap to value 0\n",
      "Set parameter MIPGap to value 0\n",
      "Set parameter MIPGap to value 0\n",
      "Set parameter MIPGap to value 0\n",
      "Set parameter MIPGap to value 0\n",
      "Set parameter MIPGap to value 0\n",
      "Set parameter MIPGap to value 0\n",
      "Set parameter MIPGap to value 0\n",
      "Set parameter MIPGap to value 0\n",
      "Set parameter MIPGap to value 0\n",
      "Set parameter MIPGap to value 0\n",
      "Set parameter MIPGap to value 0\n",
      "Set parameter MIPGap to value 0\n",
      "Set parameter MIPGap to value 0\n"
     ]
    }
   ],
   "source": [
    "from itertools import chain\n",
    "import gurobipy as gp\n",
    "\n",
    "N_iterations = 50\n",
    "params = {\"unc_params\": {\"dist_metric\": \"l1\", \"acq_sense\": \"exploration\", \"beta\": 1.5}}\n",
    "enting = Enting(problem_config, params=params)\n",
    "params_gurobi = {\"MIPGap\": 0, \"OutputFlag\": 0}\n",
    "opt_gur = GurobiOptimizer(problem_config, params=params_gurobi)\n",
    "\n",
    "# Remember the proposals and outcomes in these variables\n",
    "opt_trajectory_inputs = []\n",
    "opt_trajectory_outputs = np.empty((N_iterations, 1))\n",
    "\n",
    "for idx in range(N_iterations):\n",
    "    # Put together the initial dataset and any optimization iterations\n",
    "    # we have done so far\n",
    "    x = [_ for _ in chain(train_x, opt_trajectory_inputs)]\n",
    "    y = np.concatenate(\n",
    "        (train_y, opt_trajectory_outputs[:idx, :]), axis=0\n",
    "    )\n",
    "\n",
    "    enting.fit(x, y)\n",
    "    res_gur = opt_gur.solve(enting)\n",
    "\n",
    "    opt_trajectory_inputs.append(tuple(xopt for xopt in res_gur.opt_point))\n",
    "    opt_trajectory_outputs[idx, 0] = blackbox_ground_truth(opt_trajectory_inputs)[-1,0]"
   ]
  },
  {
   "cell_type": "markdown",
   "id": "8c23dac5",
   "metadata": {},
   "source": [
    "Let's see how the optimization went."
   ]
  },
  {
   "cell_type": "code",
   "execution_count": 41,
   "id": "7e6bc932",
   "metadata": {},
   "outputs": [
    {
     "data": {
      "image/png": "[encoded data removed]",
      "text/plain": [
       "<Figure size 640x480 with 1 Axes>"
      ]
     },
     "metadata": {},
     "output_type": "display_data"
    }
   ],
   "source": [
    "import matplotlib.pyplot as plt\n",
    "\n",
    "fig, ax = plt.subplots(1, 1)\n",
    "ax.plot(np.arange(N_init_samples), train_y, \"o\", label=\"Initial training data\")\n",
    "ax.plot([N_init_samples - 0.5, N_init_samples - 0.5], [-1, 4], \"--\")\n",
    "ax.plot(np.arange(N_iterations) + N_init_samples, opt_trajectory_outputs, \"o\", label=\"ENTMOOT proposals\")\n",
    "ax.plot((0, N_init_samples + N_iterations), (opt_objval, opt_objval), ':', label=\"Optimum (noise-free)\")\n",
    "ax.set_xlabel(\"Iteration\")\n",
    "ax.set_ylabel(\"Objective (minimize)\")\n",
    "ax.set_title(\"Optimization with default tree ensemble hyperparameters\")\n",
    "ax.legend()\n",
    "plt.show()"
   ]
  },
  {
   "cell_type": "markdown",
   "id": "7b88056d-e265-4097-9711-6bdcec723b44",
   "metadata": {},
   "source": [
    "### Improving the tree ensemble hyperparameters\n",
    "\n",
    "Now we take the initial dataset and try a few different hyperparameter combinations for the boosted tree model. We'll keep the best ones we find, run the optimization again, and see what performance we get. We will use the cross validation error to evaluate the quality of each hyperparameter combination.\n",
    "\n",
    "First we define the random hyperparameter values that we will try:"
   ]
  },
  {
   "cell_type": "code",
   "execution_count": 42,
   "id": "311c88fa-f757-44f3-8ae5-555f715fc1b4",
   "metadata": {
    "tags": []
   },
   "outputs": [],
   "source": [
    "N_hyperpar_pts = 100\n",
    "\n",
    "boosting_rounds = np.random.randint(\n",
    "    low=np.ones(N_hyperpar_pts) * 40, high=np.ones(N_hyperpar_pts) * 500\n",
    ")\n",
    "max_depths = np.random.randint(\n",
    "    low=np.ones(N_hyperpar_pts) * 1, high=np.ones(N_hyperpar_pts) * 5\n",
    ")\n",
    "min_data_in_leafs = np.random.randint(\n",
    "    low=np.ones(N_hyperpar_pts) * 1, high=np.ones(N_hyperpar_pts) * 5\n",
    ")\n",
    "learning_rates = 10 ** (-np.random.random(N_hyperpar_pts) * 5)\n",
    "\n",
    "params_to_try = [\n",
    "    {\n",
    "        \"train_params\": {\n",
    "            \"objective\": \"regression\",\n",
    "            \"metric\": \"rmse\",\n",
    "            \"boosting\": \"gbdt\",\n",
    "            \"num_boost_round\": nbr,\n",
    "            \"max_depth\": md,\n",
    "            \"min_data_in_leaf\": mdil,\n",
    "            \"min_data_per_group\": 1,\n",
    "            \"learning_rate\": lr,\n",
    "            \"verbose\": -1,\n",
    "        }\n",
    "    }\n",
    "    for nbr, md, mdil, lr in zip(\n",
    "        boosting_rounds, max_depths, min_data_in_leafs, learning_rates\n",
    "    )\n",
    "]"
   ]
  },
  {
   "cell_type": "markdown",
   "id": "ef47ea36",
   "metadata": {},
   "source": [
    "Then we perform cross validation using each of these hyperparameter combinations. We put this in a function so we can reuse it later."
   ]
  },
  {
   "cell_type": "code",
   "execution_count": 43,
   "id": "c96955c6",
   "metadata": {},
   "outputs": [],
   "source": [
    "from sklearn.model_selection import KFold\n",
    "\n",
    "N_folds = 5\n",
    "\n",
    "\n",
    "def cv_best_hyperparas(problem_config, N_folds, params_to_try, train_x, train_y):\n",
    "    kf = KFold(N_folds)\n",
    "    # cv_errs stores the sum of squared errors from CV predictions\n",
    "    cv_errs = np.empty(len(params_to_try))\n",
    "    \n",
    "    for i_hyper, hyperpars in enumerate(params_to_try):\n",
    "        params = {\n",
    "            \"unc_params\": {\"dist_metric\": \"l1\", \"acq_sense\": \"exploration\"},\n",
    "            \"tree_train_params\": hyperpars,\n",
    "        }\n",
    "        enting = Enting(problem_config, params=params)\n",
    "        fold_errs = np.empty(N_folds)\n",
    "        for i, (train_index, test_index) in enumerate(kf.split(train_x)):\n",
    "            xtrain_fold = [train_x[ti] for ti in train_index]\n",
    "            ytrain_fold = train_y[train_index]\n",
    "            xtest_fold = [train_x[ti] for ti in test_index]\n",
    "            ytest_fold = train_y[test_index]\n",
    "    \n",
    "            enting.fit(xtrain_fold, ytrain_fold)\n",
    "            test_preds = enting.predict(xtest_fold)\n",
    "            test_means = [yrow[0][0] for yrow in test_preds]\n",
    "            dev = test_means - np.ravel(ytest_fold)\n",
    "            fold_errs[i] = np.linalg.norm(dev)\n",
    "        cv_errs[i_hyper] = np.sum(fold_errs**2)\n",
    "    \n",
    "    return params_to_try[np.argmin(cv_errs)]\n",
    "\n",
    "best_hyperparas = cv_best_hyperparas(problem_config, N_folds, params_to_try, train_x, train_y)\n"
   ]
  },
  {
   "cell_type": "code",
   "execution_count": 44,
   "id": "3aa5d8bf",
   "metadata": {},
   "outputs": [
    {
     "name": "stdout",
     "output_type": "stream",
     "text": [
      "('objective', 'regression')\n",
      "('metric', 'rmse')\n",
      "('boosting', 'gbdt')\n",
      "('num_boost_round', 266)\n",
      "('max_depth', 4)\n",
      "('min_data_in_leaf', 1)\n",
      "('min_data_per_group', 1)\n",
      "('learning_rate', 0.4469190583892547)\n",
      "('verbose', -1)\n"
     ]
    }
   ],
   "source": [
    "for dict_item in best_hyperparas[\"train_params\"].items():\n",
    "    print(dict_item) "
   ]
  },
  {
   "cell_type": "markdown",
   "id": "06948a11",
   "metadata": {},
   "source": [
    "Compare this with the defaults:"
   ]
  },
  {
   "cell_type": "code",
   "execution_count": 45,
   "id": "0f5fc8f9",
   "metadata": {},
   "outputs": [
    {
     "name": "stdout",
     "output_type": "stream",
     "text": [
      "('objective', 'regression')\n",
      "('metric', 'rmse')\n",
      "('boosting', 'gbdt')\n",
      "('num_boost_round', 100)\n",
      "('max_depth', 3)\n",
      "('min_data_in_leaf', 1)\n",
      "('min_data_per_group', 1)\n",
      "('verbose', -1)\n",
      "('random_state', 1234)\n"
     ]
    },
    {
     "name": "stderr",
     "output_type": "stream",
     "text": [
      "C:\\Users\\NSM\\anaconda3\\envs\\entmoottest\\lib\\site-packages\\entmoot\\models\\mean_models\\tree_ensemble.py:23: UserWarning: No 'train_params' for tree ensemble training specified. Switch training to default params!\n",
      "  warnings.warn(\n"
     ]
    }
   ],
   "source": [
    "from entmoot.models.mean_models.tree_ensemble import TreeEnsemble\n",
    "tree_ensemble = TreeEnsemble(problem_config)\n",
    "for dict_item in tree_ensemble._train_params.items():\n",
    "    print(dict_item)"
   ]
  },
  {
   "cell_type": "markdown",
   "id": "06f4dad9",
   "metadata": {},
   "source": [
    "Let's do a quick sanity check to make sure that the specified hyperparameters are really being used."
   ]
  },
  {
   "cell_type": "code",
   "execution_count": 46,
   "id": "28e1f8c4",
   "metadata": {},
   "outputs": [
    {
     "name": "stdout",
     "output_type": "stream",
     "text": [
      "Number of trees in best hyperparameter combination: 266\n",
      "Number of trees used in fitted model: 266\n"
     ]
    }
   ],
   "source": [
    "params = {\n",
    "            \"unc_params\": {\"dist_metric\": \"l1\", \"acq_sense\": \"exploration\"},\n",
    "            \"tree_train_params\": best_hyperparas,\n",
    "        }\n",
    "enting = Enting(problem_config, params=params)\n",
    "enting.fit(train_x, train_y)\n",
    "\n",
    "print(f\"Number of trees in best hyperparameter combination: {best_hyperparas['train_params']['num_boost_round']}\")\n",
    "print(f\"Number of trees used in fitted model: {enting.mean_model.tree_dict['obj_0'].num_trees()}\")"
   ]
  },
  {
   "cell_type": "markdown",
   "id": "a55c7870",
   "metadata": {},
   "source": [
    "### Optimization with tuned hyperparameters\n",
    "\n",
    "We duplicate a little of the code above and optimize again with the freshly chosen tree ensemble hyperparameters."
   ]
  },
  {
   "cell_type": "code",
   "execution_count": 47,
   "id": "ab231fe1",
   "metadata": {},
   "outputs": [
    {
     "name": "stdout",
     "output_type": "stream",
     "text": [
      "Set parameter MIPGap to value 0\n",
      "Set parameter MIPGap to value 0\n",
      "Set parameter MIPGap to value 0\n",
      "Set parameter MIPGap to value 0\n",
      "Set parameter MIPGap to value 0\n",
      "Set parameter MIPGap to value 0\n",
      "Set parameter MIPGap to value 0\n",
      "Set parameter MIPGap to value 0\n",
      "Set parameter MIPGap to value 0\n",
      "Set parameter MIPGap to value 0\n",
      "Set parameter MIPGap to value 0\n",
      "Set parameter MIPGap to value 0\n",
      "Set parameter MIPGap to value 0\n",
      "Set parameter MIPGap to value 0\n",
      "Set parameter MIPGap to value 0\n",
      "Set parameter MIPGap to value 0\n",
      "Set parameter MIPGap to value 0\n",
      "Set parameter MIPGap to value 0\n",
      "Set parameter MIPGap to value 0\n",
      "Set parameter MIPGap to value 0\n",
      "Set parameter MIPGap to value 0\n",
      "Set parameter MIPGap to value 0\n",
      "Set parameter MIPGap to value 0\n",
      "Set parameter MIPGap to value 0\n",
      "Set parameter MIPGap to value 0\n",
      "Set parameter MIPGap to value 0\n",
      "Set parameter MIPGap to value 0\n",
      "Set parameter MIPGap to value 0\n",
      "Set parameter MIPGap to value 0\n",
      "Set parameter MIPGap to value 0\n",
      "Set parameter MIPGap to value 0\n",
      "Set parameter MIPGap to value 0\n",
      "Set parameter MIPGap to value 0\n",
      "Set parameter MIPGap to value 0\n",
      "Set parameter MIPGap to value 0\n",
      "Set parameter MIPGap to value 0\n",
      "Set parameter MIPGap to value 0\n",
      "Set parameter MIPGap to value 0\n",
      "Set parameter MIPGap to value 0\n",
      "Set parameter MIPGap to value 0\n",
      "Set parameter MIPGap to value 0\n",
      "Set parameter MIPGap to value 0\n",
      "Set parameter MIPGap to value 0\n",
      "Set parameter MIPGap to value 0\n",
      "Set parameter MIPGap to value 0\n",
      "Set parameter MIPGap to value 0\n",
      "Set parameter MIPGap to value 0\n",
      "Set parameter MIPGap to value 0\n",
      "Set parameter MIPGap to value 0\n",
      "Set parameter MIPGap to value 0\n"
     ]
    }
   ],
   "source": [
    "params = {\n",
    "    \"unc_params\": {\"dist_metric\": \"l1\", \"acq_sense\": \"exploration\", \"beta\": 1.5},\n",
    "    \"tree_train_params\": best_hyperparas,\n",
    "}\n",
    "enting = Enting(problem_config, params=params)\n",
    "opt_trajectory_inputs_tuned = []\n",
    "opt_trajectory_outputs_tuned = np.empty((N_iterations, 1))\n",
    "params_gurobi = {\"MIPGap\": 0, \"OutputFlag\": 0}\n",
    "opt_gur = GurobiOptimizer(problem_config, params=params_gurobi)\n",
    "\n",
    "\n",
    "for idx in range(N_iterations):\n",
    "    x = [_ for _ in chain(train_x, opt_trajectory_inputs_tuned)]\n",
    "    y = np.concatenate(\n",
    "        (train_y, opt_trajectory_outputs_tuned[:idx, :]), axis=0\n",
    "    )\n",
    "\n",
    "    enting.fit(x, y)\n",
    "    res_gur = opt_gur.solve(enting)\n",
    "\n",
    "    opt_trajectory_inputs_tuned.append(tuple(xopt for xopt in res_gur.opt_point))\n",
    "    opt_trajectory_outputs_tuned[idx, 0] = blackbox_ground_truth(\n",
    "        opt_trajectory_inputs_tuned\n",
    "    )[-1][0]"
   ]
  },
  {
   "cell_type": "markdown",
   "id": "90559d71",
   "metadata": {},
   "source": [
    "### Optimization with frequently retuned hyperparameters\n",
    "\n",
    "This is another optimization run where we repeat the CV-based hyperparameter tuning at every iteration of the optimization. If the black-box objective is expensive enough to evaluate, this might be worth it."
   ]
  },
  {
   "cell_type": "code",
   "execution_count": 48,
   "id": "a7a862d9",
   "metadata": {},
   "outputs": [
    {
     "name": "stdout",
     "output_type": "stream",
     "text": [
      "Set parameter MIPGap to value 0\n",
      "Set parameter MIPGap to value 0\n",
      "Set parameter MIPGap to value 0\n",
      "Set parameter MIPGap to value 0\n",
      "Set parameter MIPGap to value 0\n",
      "Set parameter MIPGap to value 0\n",
      "Set parameter MIPGap to value 0\n",
      "Set parameter MIPGap to value 0\n",
      "Set parameter MIPGap to value 0\n",
      "Set parameter MIPGap to value 0\n",
      "Set parameter MIPGap to value 0\n",
      "Set parameter MIPGap to value 0\n",
      "Set parameter MIPGap to value 0\n",
      "Set parameter MIPGap to value 0\n",
      "Set parameter MIPGap to value 0\n",
      "Set parameter MIPGap to value 0\n",
      "Set parameter MIPGap to value 0\n",
      "Set parameter MIPGap to value 0\n",
      "Set parameter MIPGap to value 0\n",
      "Set parameter MIPGap to value 0\n",
      "Set parameter MIPGap to value 0\n",
      "Set parameter MIPGap to value 0\n",
      "Set parameter MIPGap to value 0\n",
      "Set parameter MIPGap to value 0\n",
      "Set parameter MIPGap to value 0\n",
      "Set parameter MIPGap to value 0\n",
      "Set parameter MIPGap to value 0\n",
      "Set parameter MIPGap to value 0\n",
      "Set parameter MIPGap to value 0\n",
      "Set parameter MIPGap to value 0\n",
      "Set parameter MIPGap to value 0\n",
      "Set parameter MIPGap to value 0\n",
      "Set parameter MIPGap to value 0\n",
      "Set parameter MIPGap to value 0\n",
      "Set parameter MIPGap to value 0\n",
      "Set parameter MIPGap to value 0\n",
      "Set parameter MIPGap to value 0\n",
      "Set parameter MIPGap to value 0\n",
      "Set parameter MIPGap to value 0\n",
      "Set parameter MIPGap to value 0\n",
      "Set parameter MIPGap to value 0\n",
      "Set parameter MIPGap to value 0\n",
      "Set parameter MIPGap to value 0\n",
      "Set parameter MIPGap to value 0\n",
      "Set parameter MIPGap to value 0\n",
      "Set parameter MIPGap to value 0\n",
      "Set parameter MIPGap to value 0\n",
      "Set parameter MIPGap to value 0\n",
      "Set parameter MIPGap to value 0\n",
      "Set parameter MIPGap to value 0\n"
     ]
    }
   ],
   "source": [
    "opt_trajectory_inputs_retuned = []\n",
    "opt_trajectory_outputs_retuned = np.empty((N_iterations, 1))\n",
    "params_gurobi = {\"MIPGap\": 0, \"OutputFlag\": 0}\n",
    "opt_gur = GurobiOptimizer(problem_config, params=params_gurobi)\n",
    "\n",
    "for idx in range(N_iterations):\n",
    "    x = [_ for _ in chain(train_x, opt_trajectory_inputs_retuned)]\n",
    "    y = np.concatenate(\n",
    "        (train_y, opt_trajectory_outputs_retuned[:idx, :]), axis=0\n",
    "    )\n",
    "    updated_hyperparas = cv_best_hyperparas(problem_config, N_folds, params_to_try, train_x = x, train_y = y)\n",
    "    params = {\n",
    "        \"unc_params\": {\"dist_metric\": \"l1\", \"acq_sense\": \"exploration\", \"beta\": 1.5},\n",
    "        \"tree_train_params\": updated_hyperparas,\n",
    "    }\n",
    "    enting = Enting(problem_config, params=params)\n",
    "\n",
    "    enting.fit(x, y)\n",
    "    res_gur = opt_gur.solve(enting)\n",
    "\n",
    "    opt_trajectory_inputs_retuned.append(tuple(xopt for xopt in res_gur.opt_point))\n",
    "    opt_trajectory_outputs_retuned[idx, 0] = blackbox_ground_truth(\n",
    "        opt_trajectory_inputs_retuned\n",
    "    )[-1][0]"
   ]
  },
  {
   "cell_type": "markdown",
   "id": "32e45b3e",
   "metadata": {},
   "source": [
    "### Visualizing the outcomes\n",
    "\n",
    "Now we can plot both of our optimization experiments together. Let's find out if the tuned surrogate showed the better performance that we want. We would have to repeat this many times with different random seeds (and initial datasets) to get a robust conclusion."
   ]
  },
  {
   "cell_type": "code",
   "execution_count": 49,
   "id": "c2e6e21b",
   "metadata": {},
   "outputs": [
    {
     "data": {
      "image/png": "[encoded data removed]",
      "text/plain": [
       "<Figure size 640x480 with 1 Axes>"
      ]
     },
     "metadata": {},
     "output_type": "display_data"
    }
   ],
   "source": [
    "_, ax = plt.subplots(1, 1)\n",
    "ax.plot(\n",
    "    np.arange(N_init_samples), train_y, \"o\", label=\"Initial training data\"\n",
    ")\n",
    "ax.plot([N_init_samples - 0.5, N_init_samples - 0.5], [opt_objval, 3.5], \"--\")\n",
    "ax.plot((0, N_init_samples + N_iterations), (opt_objval, opt_objval), ':', label=\"Optimum (noise-free)\")\n",
    "ax.plot(np.arange(N_iterations) + N_init_samples, opt_trajectory_outputs, \"ob\", label=\"ENTMOOT (default)\")\n",
    "ax.plot(np.arange(N_iterations) + N_init_samples, opt_trajectory_outputs_tuned, \"og\", label=\"ENTMOOT (tuned once)\")\n",
    "ax.plot(np.arange(N_iterations) + N_init_samples, opt_trajectory_outputs_retuned, \"or\", label=\"ENTMOOT (tuned every iter)\")\n",
    "ax.plot(np.arange(N_iterations) + N_init_samples, np.minimum.accumulate(opt_trajectory_outputs), \"-b\", label=None)\n",
    "ax.plot(np.arange(N_iterations) + N_init_samples, np.minimum.accumulate(opt_trajectory_outputs_tuned), \"-g\", label=None)\n",
    "ax.plot(np.arange(N_iterations) + N_init_samples, np.minimum.accumulate(opt_trajectory_outputs_retuned), \"-r\", label=None)\n",
    "ax.set_xlabel(\"Iteration\")\n",
    "ax.set_ylabel(\"Objective (minimize)\")\n",
    "ax.set_title(\"Optimization with default tree ensemble hyperparameters\")\n",
    "ax.legend()\n",
    "plt.show()"
   ]
  },
  {
   "cell_type": "code",
   "execution_count": null,
   "id": "f431451d",
   "metadata": {},
   "outputs": [],
   "source": [
    "TODO: Plot once tuned model against default model"
   ]
  },
  {
   "cell_type": "code",
   "execution_count": null,
   "id": "7617181d",
   "metadata": {},
   "outputs": [],
   "source": []
  }
 ],
 "metadata": {
  "kernelspec": {
   "display_name": "Python 3 (ipykernel)",
   "language": "python",
   "name": "python3"
  },
  "language_info": {
   "codemirror_mode": {
    "name": "ipython",
    "version": 3
   },
   "file_extension": ".py",
   "mimetype": "text/x-python",
   "name": "python",
   "nbconvert_exporter": "python",
   "pygments_lexer": "ipython3",
   "version": "3.10.12"
  }
 },
 "nbformat": 4,
 "nbformat_minor": 5
}
